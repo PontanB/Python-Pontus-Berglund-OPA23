{
 "cells": [
  {
   "cell_type": "markdown",
   "metadata": {},
   "source": [
    "# OOP fundamentals"
   ]
  },
  {
   "cell_type": "code",
   "execution_count": 5,
   "metadata": {},
   "outputs": [
    {
     "name": "stdout",
     "output_type": "stream",
     "text": [
      "dunder init running\n",
      "<__main__.Antagning object at 0x0000020A7FEF3CD0>\n"
     ]
    }
   ],
   "source": [
    "class Antagning:\n",
    "    # dunder init (special method maked with dubble underscores)\n",
    "    def __init__(self, school, program, name, accept):\n",
    "        print(\"dunder init running\")\n",
    "        self.school = school\n",
    "        self.program = program\n",
    "        self.name = name\n",
    "        self.accept = accept\n",
    "    \n",
    "student1 = Antagning(\"handelsakademin\", \"AI \", \"Gore Band\", True)\n",
    "student1\n"
   ]
  },
  {
   "cell_type": "code",
   "execution_count": 8,
   "metadata": {},
   "outputs": [
    {
     "data": {
      "text/plain": [
       "('Gore Band', True)"
      ]
     },
     "execution_count": 8,
     "metadata": {},
     "output_type": "execute_result"
    }
   ],
   "source": [
    "student1.name, student1.accept"
   ]
  },
  {
   "cell_type": "code",
   "execution_count": 9,
   "metadata": {},
   "outputs": [
    {
     "data": {
      "text/plain": [
       "'Javascript developer'"
      ]
     },
     "execution_count": 9,
     "metadata": {},
     "output_type": "execute_result"
    }
   ],
   "source": [
    "# Change the state\n",
    "student1.program = \"Javascript developer\"\n",
    "student1.program"
   ]
  },
  {
   "cell_type": "code",
   "execution_count": 10,
   "metadata": {},
   "outputs": [
    {
     "name": "stdout",
     "output_type": "stream",
     "text": [
      "dunder init running\n"
     ]
    },
    {
     "data": {
      "text/plain": [
       "<__main__.Antagning at 0x20a01534e90>"
      ]
     },
     "execution_count": 10,
     "metadata": {},
     "output_type": "execute_result"
    }
   ],
   "source": [
    "student2 = Antagning(\"Handelsakademin\", \"UX\", \"mosen ahmed\", False)\n",
    "student2"
   ]
  },
  {
   "cell_type": "markdown",
   "metadata": {},
   "source": [
    "## \\_\\_repr\\_\\_\n",
    "\n",
    "- dunder \"repper\" - method for representing an instance"
   ]
  },
  {
   "cell_type": "code",
   "execution_count": 13,
   "metadata": {},
   "outputs": [
    {
     "ename": "SyntaxError",
     "evalue": "unmatched ')' (1088670577.py, line 11)",
     "output_type": "error",
     "traceback": [
      "\u001b[1;36m  Cell \u001b[1;32mIn[13], line 11\u001b[1;36m\u001b[0m\n\u001b[1;33m    return f\"Antagning(school = \"{self.school}\", program = \"{self.program}\", name = \"{self.name}\", accept = \"{self.accept})\"\u001b[0m\n\u001b[1;37m                                                                                                                          ^\u001b[0m\n\u001b[1;31mSyntaxError\u001b[0m\u001b[1;31m:\u001b[0m unmatched ')'\n"
     ]
    }
   ],
   "source": [
    "class Antagning:\n",
    "    # dunder init (special method maked with dubble underscores)\n",
    "    def __init__(self, school, program, name, accept):\n",
    "        \n",
    "        self.school = school\n",
    "        self.program = program\n",
    "        self.name = name\n",
    "        self.accept = accept\n",
    "\n",
    "    def __repr__(self) -> str:\n",
    "        return f\"Antagning(school= '{self.school}', program= '{self.program}', name= '{self.name}', accept= '{self.accept})'\n",
    "            \n",
    "    \n",
    "    \n",
    "Antagning(\"Handelsakedmein\", \"UX\", \"Belle\", False)\n",
    "    "
   ]
  },
  {
   "cell_type": "code",
   "execution_count": 20,
   "metadata": {},
   "outputs": [
    {
     "data": {
      "text/plain": [
       "Patient('Bella', 'Conjunctivites')"
      ]
     },
     "execution_count": 20,
     "metadata": {},
     "output_type": "execute_result"
    }
   ],
   "source": [
    "class Patient:\n",
    "    def __init__(self, name, diagnosis) -> None:\n",
    "        self._name = name\n",
    "        self.__diagnosis = diagnosis\n",
    "\n",
    "    def __repr__(self) -> str:\n",
    "        return f\"Patient('{self._name}', '{self.__diagnosis}')\"\n",
    "    \n",
    "patient1 = Patient(\"Bella\", \"Conjunctivites\")\n",
    "patient1\n",
    "    "
   ]
  },
  {
   "cell_type": "code",
   "execution_count": 21,
   "metadata": {},
   "outputs": [
    {
     "data": {
      "text/plain": [
       "'Bella'"
      ]
     },
     "execution_count": 21,
     "metadata": {},
     "output_type": "execute_result"
    }
   ],
   "source": [
    "patient1._name"
   ]
  },
  {
   "cell_type": "code",
   "execution_count": 15,
   "metadata": {},
   "outputs": [
    {
     "ename": "AttributeError",
     "evalue": "'Patient' object has no attribute '__diagnosis'",
     "output_type": "error",
     "traceback": [
      "\u001b[1;31m---------------------------------------------------------------------------\u001b[0m",
      "\u001b[1;31mAttributeError\u001b[0m                            Traceback (most recent call last)",
      "Cell \u001b[1;32mIn[15], line 1\u001b[0m\n\u001b[1;32m----> 1\u001b[0m \u001b[43mpatient1\u001b[49m\u001b[38;5;241;43m.\u001b[39;49m\u001b[43m__diagnosis\u001b[49m\n",
      "\u001b[1;31mAttributeError\u001b[0m: 'Patient' object has no attribute '__diagnosis'"
     ]
    }
   ],
   "source": [
    "patient1.__diagnosis"
   ]
  },
  {
   "cell_type": "code",
   "execution_count": 22,
   "metadata": {},
   "outputs": [
    {
     "data": {
      "text/plain": [
       "{'_name': 'Bella', '_Patient__diagnosis': 'Conjunctivites'}"
      ]
     },
     "execution_count": 22,
     "metadata": {},
     "output_type": "execute_result"
    }
   ],
   "source": [
    "patient1.__dict__"
   ]
  },
  {
   "cell_type": "markdown",
   "metadata": {},
   "source": [
    "## Larger examples"
   ]
  },
  {
   "cell_type": "code",
   "execution_count": 25,
   "metadata": {},
   "outputs": [
    {
     "name": "stdout",
     "output_type": "stream",
     "text": [
      "Coins in stash: 100 riksdaler, 60 skilling\n",
      "Coins in stash: 90 riksdaler, 45 skilling\n"
     ]
    }
   ],
   "source": [
    "from numbers import Number\n",
    "\n",
    "class oldcoinstash:\n",
    "    def __init__(self, owner) -> None:\n",
    "        self.owner = owner\n",
    "\n",
    "        self._riksdaler = 0\n",
    "        self._skilling= 0\n",
    "    \n",
    "    def deposit(self, riksdaler, skilling):\n",
    "        if not isinstance(riksdaler,Number)or not isinstance(skilling, Number):\n",
    "            raise TypeError(f\"riksdaler and skilling must be a number\")\n",
    "\n",
    "\n",
    "        if riksdaler <= 0 or skilling <= 0:\n",
    "            raise ValueError(f\"not valid: You tried to deposit {riksdaler}riksdaler and {skilling} skilling\")\n",
    "        \n",
    "        self._riksdaler += riksdaler\n",
    "        self._skilling += skilling\n",
    "\n",
    "    def withdraw(self,riksdaler, skilling):\n",
    "        self._riksdaler -= riksdaler\n",
    "        self._skilling -= skilling\n",
    "    \n",
    "    def check_balance(self):\n",
    "        print (f\"Coins in stash: {self._riksdaler} riksdaler, {self._skilling} skilling\")\n",
    "\n",
    "stash1 = oldcoinstash(\"belle\")\n",
    "stash1.deposit(50,30)\n",
    "stash1.deposit(50,30)\n",
    "stash1.check_balance()\n",
    "stash1.withdraw(10,15)\n",
    "stash1.check_balance()\n"
   ]
  },
  {
   "cell_type": "markdown",
   "metadata": {},
   "source": [
    "## Property"
   ]
  },
  {
   "cell_type": "code",
   "execution_count": null,
   "metadata": {},
   "outputs": [],
   "source": [
    "from numbers import Number\n",
    "\n",
    "class student:\n",
    "    \"\"\"Student class for representing students with name, age and active\"\"\"\n",
    "\n",
    "    def __init__(self, name:str, age: int, active : bool) -> None:\n",
    "        self._name = name \n",
    "        self._age = age\n",
    "        self._active = active\n",
    "\n",
    "    # decarator -> changes a function to give it extra funconality\n",
    "    @property\n",
    "    def name(self):\n",
    "        \"\"\"Read-only property, cant set name\"\"\"\n",
    "        return self._name\n",
    "    @property\n",
    "    def age(self):\n",
    "        return self.age\n",
    "    \n",
    "    @age.setter\n",
    "    def age(self, value: float):\n",
    "        value = float(value)\n",
    "        \"\"\"Setter for age with error handling\"\"\"\n",
    "        if not isinstance(value, Number):\n",
    "            raise TypeError(f\"Age must be a number not {type(value)}\")\n",
    "        \n",
    "        if not (0<=value <=125):\n",
    "            raise ValueError(f\"age must be beetween 0 and 125\")\n",
    "        \n",
    "        self._age = value\n",
    "\n",
    "student1 = student(\"Bella\", 2,True)\n",
    "try:\n",
    "\n",
    "    student1.name = \"gore band\" \n",
    "except AttributeError as err:\n",
    "    print(err)\n",
    "try:\n",
    "    student1.age = 126\n",
    "except ValueError as err:\n",
    "    print(err)\n",
    "\n",
    "\n"
   ]
  },
  {
   "cell_type": "code",
   "execution_count": 4,
   "metadata": {},
   "outputs": [
    {
     "name": "stdout",
     "output_type": "stream",
     "text": [
      "property 'name' of 'student' object has no setter\n"
     ]
    }
   ],
   "source": [
    "from numbers import Number\n",
    "\n",
    "class student:\n",
    "    \"\"\"Student class for representing students with name, age and active\"\"\"\n",
    "\n",
    "    def __init__(self, name:str, age: int, active : bool) -> None:\n",
    "        self._name = name \n",
    "        self._age = age\n",
    "        self._active = active\n",
    "\n",
    "    # decarator -> changes a function to give it extra funconality\n",
    "    @property\n",
    "    def name(self):\n",
    "        \"\"\"Read-only property, cant set name\"\"\"\n",
    "        return self._name\n",
    "    @property\n",
    "    def age(self):\n",
    "        return self.age\n",
    "    \n",
    "    @age.setter\n",
    "    def age(self, value: float):\n",
    "        value = float(value)\n",
    "        \"\"\"Setter for age with error handling\"\"\"\n",
    "        if not isinstance(value, Number):\n",
    "            raise TypeError(f\"Age must be a number not {type(value)}\")\n",
    "        \n",
    "        if not (0<=value <=125):\n",
    "            raise ValueError(f\"age must be beetween 0 and 125\")\n",
    "        \n",
    "        self._age = value\n",
    "\n",
    "student1 = student(\"Bella\", 2,True)\n",
    "try:\n",
    "\n",
    "    student1.name = \"gore band\" \n",
    "except AttributeError as err:\n",
    "    print(err)\n",
    "try:\n",
    "    student1.age = 122\n",
    "except ValueError as err:\n",
    "    print(err)\n",
    "\n",
    "\n"
   ]
  },
  {
   "cell_type": "code",
   "execution_count": null,
   "metadata": {},
   "outputs": [],
   "source": []
  }
 ],
 "metadata": {
  "kernelspec": {
   "display_name": "venv",
   "language": "python",
   "name": "python3"
  },
  "language_info": {
   "codemirror_mode": {
    "name": "ipython",
    "version": 3
   },
   "file_extension": ".py",
   "mimetype": "text/x-python",
   "name": "python",
   "nbconvert_exporter": "python",
   "pygments_lexer": "ipython3",
   "version": "3.11.7"
  }
 },
 "nbformat": 4,
 "nbformat_minor": 2
}
