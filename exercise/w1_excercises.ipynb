{
 "cells": [
  {
   "cell_type": "markdown",
   "metadata": {},
   "source": [
    "## 0.01 If statments excersices\n",
    "\n"
   ]
  },
  {
   "cell_type": "code",
   "execution_count": 1,
   "metadata": {},
   "outputs": [
    {
     "name": "stdout",
     "output_type": "stream",
     "text": [
      "your number is negative\n"
     ]
    }
   ],
   "source": [
    "x = int(input(\"Whats your number\"))\n",
    "if x > 0:\n",
    "    print(\"your number is positive\")\n",
    "elif x == 0:\n",
    "    print(\"Your number is null\")\n",
    "else:\n",
    "    print(\"your number is negative\")"
   ]
  },
  {
   "cell_type": "code",
   "execution_count": 4,
   "metadata": {},
   "outputs": [
    {
     "name": "stdout",
     "output_type": "stream",
     "text": [
      "7\n"
     ]
    }
   ],
   "source": [
    "x = int(input(\"Give a number\"))\n",
    "y = int(input(\"Give a number\"))\n",
    "if x < y:\n",
    "    print (y)\n",
    "elif x > y:\n",
    "    print (x)\n",
    "else:\n",
    "    print(\"Talen är lika stora\")"
   ]
  },
  {
   "cell_type": "code",
   "execution_count": 6,
   "metadata": {},
   "outputs": [
    {
     "name": "stdout",
     "output_type": "stream",
     "text": [
      "i dosent make a triangel\n"
     ]
    }
   ],
   "source": [
    "x = int(input(\"Give a angel\"))\n",
    "y = int(input(\"Give a angel\"))\n",
    "z = int(input(\"Give a angel\"))\n",
    "if x + y + z == 180:\n",
    "    print(\"you gave me a triangel\")\n",
    "else:\n",
    "    print(\"i dosent make a triangel\")\n"
   ]
  },
  {
   "cell_type": "code",
   "execution_count": 8,
   "metadata": {},
   "outputs": [
    {
     "name": "stdout",
     "output_type": "stream",
     "text": [
      "It`s even\n"
     ]
    }
   ],
   "source": [
    "x = int(input(\"give a number\"))\n",
    "if x % 2 == 0:\n",
    "    print(\"It`s even\")\n",
    "else:\n",
    "    print(\"it`s odd\")\n",
    "if x\n"
   ]
  },
  {
   "cell_type": "code",
   "execution_count": null,
   "metadata": {},
   "outputs": [],
   "source": []
  },
  {
   "cell_type": "markdown",
   "metadata": {},
   "source": [
    "## 0.02 While statments"
   ]
  },
  {
   "cell_type": "code",
   "execution_count": null,
   "metadata": {},
   "outputs": [],
   "source": [
    "num = - 10\n",
    "while num <= 10:\n",
    "    print (num)\n",
    "    num += 1\n"
   ]
  },
  {
   "cell_type": "code",
   "execution_count": null,
   "metadata": {},
   "outputs": [],
   "source": [
    "num = 1\n",
    "sum = 0\n",
    "while num <= 100:\n",
    "    \n",
    "    print (sum)\n",
    "    num += 2\n",
    "    sum += num"
   ]
  },
  {
   "cell_type": "code",
   "execution_count": 18,
   "metadata": {},
   "outputs": [
    {
     "name": "stdout",
     "output_type": "stream",
     "text": [
      "31\n",
      "Lower\n",
      "higher\n",
      "Your number is right\n"
     ]
    }
   ],
   "source": [
    "import random\n",
    "right_num = random.randint(1,100)\n",
    "print(right_num)\n",
    "guess = 0\n",
    "while guess != right_num:\n",
    "    guess = int(input(\"guess a number\"))\n",
    "    if guess < right_num:\n",
    "        print(\"higher\")\n",
    "    elif guess > right_num:\n",
    "        print(\"Lower\")\n",
    "print(\"Your number is right\")\n"
   ]
  },
  {
   "cell_type": "markdown",
   "metadata": {},
   "source": [
    "## 0.03_for_statement"
   ]
  },
  {
   "cell_type": "code",
   "execution_count": null,
   "metadata": {},
   "outputs": [],
   "source": [
    "num = 1\n",
    "sum = 0\n",
    "for i in range(1, 100):\n",
    "    sum += num\n",
    "    num += 1\n",
    "    print (sum)"
   ]
  },
  {
   "cell_type": "code",
   "execution_count": null,
   "metadata": {},
   "outputs": [],
   "source": []
  },
  {
   "cell_type": "markdown",
   "metadata": {},
   "source": [
    "## 0.04_list"
   ]
  },
  {
   "cell_type": "code",
   "execution_count": 6,
   "metadata": {},
   "outputs": [
    {
     "name": "stdout",
     "output_type": "stream",
     "text": [
      "[6, 6, 6, 3, 6, 4, 5, 4, 3, 2]\n"
     ]
    }
   ],
   "source": [
    "import random\n",
    "rolls = []\n",
    "x = 0\n",
    "while x < 10:\n",
    "    roll = random.randint(1,6)\n",
    "    x += 1\n",
    "    rolls.append(roll)\n",
    "print(rolls)"
   ]
  },
  {
   "cell_type": "code",
   "execution_count": null,
   "metadata": {},
   "outputs": [],
   "source": [
    "import matplotlib.pyplot as plt\n",
    "\n",
    "# a) Skapa listan med kvadrater från -10 till 10 med listkomprehension\n",
    "squares = [x ** 2 for x in range(-10, 11)]\n",
    "\n",
    "# b) Plotta listan med matplotlib\n",
    "plt.plot(range(-10, 11), squares, marker='o', linestyle='-')\n",
    "plt.title('Squares from -10 to 10')\n",
    "plt.xlabel('Number')\n",
    "plt.ylabel('Square')\n",
    "plt.grid(True)\n",
    "plt.show()"
   ]
  },
  {
   "cell_type": "code",
   "execution_count": null,
   "metadata": {},
   "outputs": [],
   "source": [
    "import random\n",
    "import matplotlib.pyplot as plt\n",
    "\n",
    "# a) 100 tärningskast och räkna antalet sexor\n",
    "rolls_100 = [random.randint(1, 6) for _ in range(100)]\n",
    "count_six_100 = rolls_100.count(6)\n",
    "print(\"Number of outcome six in 100 dice rolls:\", count_six_100)\n",
    "\n",
    "# b) Simuleringar och beräkning av sannolikheten för att få en sexa\n",
    "num_simulations = [10, 100, 1000, 10000, 100000, 1000000]\n",
    "probabilities = []\n",
    "\n",
    "for num_rolls in num_simulations:\n",
    "    rolls = [random.randint(1, 6) for _ in range(num_rolls)]\n",
    "    count_six = rolls.count(6)\n",
    "    probability = count_six / num_rolls\n",
    "    probabilities.append(probability)\n",
    "    print(f\"Probability of outcome six in {num_rolls} dice rolls:\", probability)\n",
    "\n",
    "# c) Plotta resultaten\n",
    "plt.plot(num_simulations, probabilities, marker='o')\n",
    "plt.xscale('log')  # Använder logaritmisk skala på x-axeln för att bättre visualisera resultaten\n",
    "plt.title('Probability of Outcome Six vs. Number of Rolls')\n",
    "plt.xlabel('Number of Rolls')\n",
    "plt.ylabel('Probability')\n",
    "plt.grid(True)\n",
    "plt.show()"
   ]
  },
  {
   "cell_type": "code",
   "execution_count": 5,
   "metadata": {},
   "outputs": [
    {
     "name": "stdout",
     "output_type": "stream",
     "text": [
      "18\n"
     ]
    }
   ],
   "source": [
    "sentence = \"A picture says more than a thousand words, a matematical formula says more than a thousand pictures.\"\n",
    "words = len(sentence.split())\n",
    "print(words)"
   ]
  },
  {
   "cell_type": "code",
   "execution_count": 7,
   "metadata": {},
   "outputs": [
    {
     "name": "stdout",
     "output_type": "stream",
     "text": [
      "det är inte en palidrom\n"
     ]
    }
   ],
   "source": [
    "word =\"alls\"\n",
    "if word == word[::-1]:\n",
    "    print(\"der är en palidrom\")\n",
    "else:\n",
    "    print(\"det är inte en palidrom\")"
   ]
  },
  {
   "cell_type": "markdown",
   "metadata": {},
   "source": [
    "## 0.06 Functions"
   ]
  },
  {
   "cell_type": "code",
   "execution_count": 9,
   "metadata": {},
   "outputs": [
    {
     "name": "stdout",
     "output_type": "stream",
     "text": [
      "4.0st1000-lapp\n",
      "1.0st500-lapp\n",
      "1.0st20-lapp\n",
      "1.0st10-krona\n",
      "1.0st2-krona\n"
     ]
    }
   ],
   "source": [
    "def calculate_currancy(value):\n",
    "    currency_units = [1000, 500, 200, 100, 50, 20, 10, 5 ,2 ,1]\n",
    "    currency_names = [\"1000-lapp\", \"500-lapp\", \"200-lapp\", \"100-lapp\", \"50-lapp\",\n",
    "                      \"20-lapp\", \"10-krona\", \"5-krona\", \"2-krona\", \"1-krona\"]\n",
    "    \n",
    "    for unit, name in zip(currency_units, currency_names):\n",
    "        count = value // unit\n",
    "        if count > 0:\n",
    "            print(f\"{count}st{name}\")\n",
    "            value %= unit\n",
    "value = float(input(\"how much to take out?\"))\n",
    "calculate_currancy(value)"
   ]
  },
  {
   "cell_type": "markdown",
   "metadata": {},
   "source": [
    "## 0.07 Exception"
   ]
  },
  {
   "cell_type": "markdown",
   "metadata": {},
   "source": [
    "### find errors"
   ]
  },
  {
   "cell_type": "code",
   "execution_count": null,
   "metadata": {},
   "outputs": [],
   "source": [
    "impor numpy as np\n",
    "\n",
    "def distance(x,y)\n",
    "    reurn np.sqrt(x+y)\n",
    "\n",
    "print(distance([0.5, 0.5]))"
   ]
  },
  {
   "cell_type": "code",
   "execution_count": null,
   "metadata": {},
   "outputs": [],
   "source": [
    "import numpy as np\n",
    "\n",
    "def distance(x,y):\n",
    "    return np.sqrt(x+y)\n",
    "\n",
    "print(distance(0.5, 0.5))"
   ]
  },
  {
   "cell_type": "code",
   "execution_count": null,
   "metadata": {},
   "outputs": [],
   "source": [
    "def is_fourdigit(number):\n",
    "    if number//1000 < 10\n",
    "        return true\n",
    "    else \n",
    "        return false\n",
    "\n",
    "# test program\n",
    "test_numbers = [231, 3124, -4124, -1000,-999, 1001, 10000, -10000, 999]\n",
    "\n",
    "for number in test_numbers:\n",
    "    if is_fourdigit(number):\n",
    "        print(f\"{number} is four-digit\")\n",
    "    else:\n",
    "        print(f\"{number} is not four-digit\")"
   ]
  },
  {
   "cell_type": "code",
   "execution_count": null,
   "metadata": {},
   "outputs": [],
   "source": [
    "def is_fourdigit(number):\n",
    "    if number <= 9999 and number >= 1000:\n",
    "        return True\n",
    "    else: \n",
    "        return False\n",
    "\n",
    "# test program\n",
    "test_numbers = [231, 3124, -4124, -1000,-999, 1001, 10000, -10000, 999]\n",
    "\n",
    "for number in test_numbers:\n",
    "    if is_fourdigit(number):\n",
    "        print(f\"{number} is four-digit\")\n",
    "    else:\n",
    "        print(f\"{number} is not four-digit\")"
   ]
  },
  {
   "cell_type": "markdown",
   "metadata": {},
   "source": [
    "## 0.08_file_handling"
   ]
  },
  {
   "cell_type": "code",
   "execution_count": null,
   "metadata": {},
   "outputs": [],
   "source": [
    "import random\n",
    "number = random.randint(1000,10000)\n",
    "guess = 0\n",
    "for number \n"
   ]
  },
  {
   "cell_type": "markdown",
   "metadata": {},
   "source": [
    "## 0.11_OOP_basics"
   ]
  },
  {
   "cell_type": "code",
   "execution_count": 1,
   "metadata": {},
   "outputs": [
    {
     "ename": "TypeError",
     "evalue": "metric.__init__() missing 2 required positional arguments: 'pound' and 'foot'",
     "output_type": "error",
     "traceback": [
      "\u001b[1;31m---------------------------------------------------------------------------\u001b[0m",
      "\u001b[1;31mTypeError\u001b[0m                                 Traceback (most recent call last)",
      "Cell \u001b[1;32mIn[1], line 20\u001b[0m\n\u001b[0;32m     16\u001b[0m     \u001b[38;5;28;01mdef\u001b[39;00m \u001b[38;5;21mfoot_to_meter\u001b[39m(\u001b[38;5;28mself\u001b[39m):\n\u001b[0;32m     18\u001b[0m         \u001b[38;5;28;01mreturn\u001b[39;00m \u001b[38;5;28mself\u001b[39m\u001b[38;5;241m.\u001b[39mfoot \u001b[38;5;241m*\u001b[39m \u001b[38;5;241m0.3\u001b[39m\n\u001b[1;32m---> 20\u001b[0m metherment1 \u001b[38;5;241m=\u001b[39m \u001b[43mmetric\u001b[49m\u001b[43m(\u001b[49m\u001b[38;5;241;43m20\u001b[39;49m\u001b[43m)\u001b[49m\n\u001b[0;32m     21\u001b[0m metherment1\n",
      "\u001b[1;31mTypeError\u001b[0m: metric.__init__() missing 2 required positional arguments: 'pound' and 'foot'"
     ]
    }
   ],
   "source": [
    "class metric:\n",
    "\n",
    "    def __init__(self,inch , pound, foot) -> None:\n",
    "        self.inch = inch\n",
    "        self. pound = pound\n",
    "        self.foot = foot\n",
    "\n",
    "    def inch_to_cm(self):\n",
    "\n",
    "        return self.inch * 2.54\n",
    "    \n",
    "    def pound_to_kg(self):\n",
    "        \n",
    "        return self.pound * 0.45\n",
    "    \n",
    "    def foot_to_meter(self):\n",
    "\n",
    "        return self.foot * 0.3\n",
    "    \n",
    "metherment1 = metric(20)\n",
    "metherment1\n",
    "\n",
    "    "
   ]
  },
  {
   "cell_type": "code",
   "execution_count": null,
   "metadata": {},
   "outputs": [],
   "source": []
  }
 ],
 "metadata": {
  "kernelspec": {
   "display_name": "venv",
   "language": "python",
   "name": "python3"
  },
  "language_info": {
   "codemirror_mode": {
    "name": "ipython",
    "version": 3
   },
   "file_extension": ".py",
   "mimetype": "text/x-python",
   "name": "python",
   "nbconvert_exporter": "python",
   "pygments_lexer": "ipython3",
   "version": "3.11.7"
  }
 },
 "nbformat": 4,
 "nbformat_minor": 2
}
